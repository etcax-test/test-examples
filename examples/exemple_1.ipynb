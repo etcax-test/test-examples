{
 "cells": [
  {
   "cell_type": "markdown",
   "metadata": {},
   "source": [
    "# Exemple d'utilisation de données océanographiques (1/2)\n",
    "\n",
    "Cet exemple a pour but d'illustrer une utilisation des technologies erddap et python pour aider l'analyse de données géologique.\n",
    "\n",
    "Dans cet exemple nous allons utiliser une jeu de données présent sur notre serveur erddap et afficher un graphique standard pour l'affichage de données de CTD.\n",
    "\n",
    "xxxDescriptions erddap\n",
    "xxxDescription jeu de données\n",
    "xxxComment on aurait pu le trouver\n",
    "\n",
    "L'url suivante nous permet de voir les variables de ce jeu de données et de les filter\n",
    "https://erddap.ogsl.ca/erddap/tabledap/mpoMaritimeStJohnCTD.html\n",
    "\n",
    "Nous voyons qu'il y a une colonne nom de site (site_name) et une colonne de temps (time)\n",
    "\n",
    "Dans un premier temps, essayons de comprendre la distribution temporelle de ce jeu de données.\n",
    "\n",
    "Le volume de données pourrait être élévé alors filtrons les données sur une année seulement.\n"
   ]
  },
  {
   "cell_type": "code",
   "execution_count": 2,
   "metadata": {},
   "outputs": [
    {
     "data": {
      "text/html": [
       "<div>\n",
       "<style scoped>\n",
       "    .dataframe tbody tr th:only-of-type {\n",
       "        vertical-align: middle;\n",
       "    }\n",
       "\n",
       "    .dataframe tbody tr th {\n",
       "        vertical-align: top;\n",
       "    }\n",
       "\n",
       "    .dataframe thead tr th {\n",
       "        text-align: left;\n",
       "    }\n",
       "</style>\n",
       "<table border=\"1\" class=\"dataframe\">\n",
       "  <thead>\n",
       "    <tr>\n",
       "      <th></th>\n",
       "      <th>site_name</th>\n",
       "      <th>depth</th>\n",
       "      <th>time</th>\n",
       "    </tr>\n",
       "    <tr>\n",
       "      <th></th>\n",
       "      <th>Unnamed: 0_level_1</th>\n",
       "      <th>m</th>\n",
       "      <th>UTC</th>\n",
       "    </tr>\n",
       "  </thead>\n",
       "  <tbody>\n",
       "    <tr>\n",
       "      <th>0</th>\n",
       "      <td>SJR_Evandale</td>\n",
       "      <td>20.0</td>\n",
       "      <td>2019-07-24T14:36:00Z</td>\n",
       "    </tr>\n",
       "    <tr>\n",
       "      <th>1</th>\n",
       "      <td>SJR_Evandale</td>\n",
       "      <td>20.0</td>\n",
       "      <td>2019-07-24T14:37:00Z</td>\n",
       "    </tr>\n",
       "    <tr>\n",
       "      <th>2</th>\n",
       "      <td>SJR_Evandale</td>\n",
       "      <td>20.0</td>\n",
       "      <td>2019-07-24T14:38:00Z</td>\n",
       "    </tr>\n",
       "    <tr>\n",
       "      <th>3</th>\n",
       "      <td>SJR_Evandale</td>\n",
       "      <td>20.0</td>\n",
       "      <td>2019-07-24T14:39:00Z</td>\n",
       "    </tr>\n",
       "    <tr>\n",
       "      <th>4</th>\n",
       "      <td>SJR_Evandale</td>\n",
       "      <td>20.0</td>\n",
       "      <td>2019-07-24T14:40:00Z</td>\n",
       "    </tr>\n",
       "  </tbody>\n",
       "</table>\n",
       "</div>"
      ],
      "text/plain": [
       "           site_name depth                  time\n",
       "  Unnamed: 0_level_1     m                   UTC\n",
       "0       SJR_Evandale  20.0  2019-07-24T14:36:00Z\n",
       "1       SJR_Evandale  20.0  2019-07-24T14:37:00Z\n",
       "2       SJR_Evandale  20.0  2019-07-24T14:38:00Z\n",
       "3       SJR_Evandale  20.0  2019-07-24T14:39:00Z\n",
       "4       SJR_Evandale  20.0  2019-07-24T14:40:00Z"
      ]
     },
     "execution_count": 2,
     "metadata": {},
     "output_type": "execute_result"
    }
   ],
   "source": [
    "import pandas as pd\n",
    "\n",
    "data_url = \"https://erddap.ogsl.ca/erddap/tabledap/mpoMaritimeStJohnCTD.csv?site_name%2Cdepth%2Ctime&time%3C=2020-07-26T00%3A00Z&orderBy(%22time%22)\"\n",
    "\n",
    "dataframe = pd.read_csv(data_url, header=[0,1])\n",
    "dataframe.head()\n"
   ]
  },
  {
   "cell_type": "markdown",
   "metadata": {},
   "source": [
    "On remarque que la granularité temporelle est très fine (1s)\n",
    "\n",
    "Ces données contiennent deux lignes d'en-têtes (nom de variables et unités). Pour faciliter, l'utilisation de plotly nous allons en supprimer une (celle des unités)"
   ]
  },
  {
   "cell_type": "code",
   "execution_count": 3,
   "metadata": {},
   "outputs": [],
   "source": [
    "dataframe.columns = dataframe.columns.droplevel(-1)"
   ]
  },
  {
   "cell_type": "markdown",
   "metadata": {},
   "source": [
    "Création d'un graphique qui affiche:\n",
    "- en y, la profondeur\n",
    "- en x, le temps\n"
   ]
  },
  {
   "cell_type": "code",
   "execution_count": 4,
   "metadata": {},
   "outputs": [],
   "source": [
    "import plotly.io as pio\n",
    "pio.renderers.default = \"notebook_connected\""
   ]
  },
  {
   "cell_type": "code",
   "execution_count": null,
   "metadata": {},
   "outputs": [],
   "source": [
    "import plotly.express as px\n",
    "\n",
    "fig = px.scatter(dataframe, x=\"time\", y=\"depth\", color=\"site_name\")\n",
    "fig.update_yaxes(autorange=\"reversed\")\n",
    "fig.show()\n"
   ]
  },
  {
   "cell_type": "markdown",
   "metadata": {},
   "source": [
    "On remarque que le jeu de données contient des mesures pour plusieurs site (localisation) est qu'à chaque localisation les mesures sont prises à une profondeur bien définie.\n",
    "\n",
    "Ces données sont donc exploitable comme des séries temporelles (et non des profils de colonne d'eau)\n",
    "\n",
    "Dans le notebook suivant, nous effectueront une analyse temporelle de température pour un des site SJR_Evandale qui semble avoir des données sur une large amplitude temporelle.\n"
   ]
  }
 ],
 "metadata": {
  "kernelspec": {
   "display_name": "Python 3.10.8 64-bit",
   "language": "python",
   "name": "python3"
  },
  "language_info": {
   "codemirror_mode": {
    "name": "ipython",
    "version": 3
   },
   "file_extension": ".py",
   "mimetype": "text/x-python",
   "name": "python",
   "nbconvert_exporter": "python",
   "pygments_lexer": "ipython3",
   "version": "3.10.8"
  },
  "orig_nbformat": 4,
  "vscode": {
   "interpreter": {
    "hash": "949777d72b0d2535278d3dc13498b2535136f6dfe0678499012e853ee9abcab1"
   }
  }
 },
 "nbformat": 4,
 "nbformat_minor": 2
}
